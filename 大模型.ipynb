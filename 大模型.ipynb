{
 "cells": [
  {
   "cell_type": "code",
   "execution_count": 14,
   "id": "0cd9571f-84a5-48b4-9511-c79605ec2b5c",
   "metadata": {},
   "outputs": [],
   "source": [
    "import os\n",
    "from zhipuai import ZhipuAI\n",
    "import base64\n",
    "\n",
    "os.environ[\"ZHIPUAI_API_KEY\"]=\"cba33446c6284588b2d533f906d11e55.dRyptCptFpHshX40\"\n",
    "\n",
    "client=ZhipuAI()"
   ]
  },
  {
   "cell_type": "code",
   "execution_count": 15,
   "id": "741ebea6-1e6b-4fb6-894a-d3c1bba69529",
   "metadata": {},
   "outputs": [
    {
     "data": {
      "text/plain": [
       "'C:\\\\Users\\\\Administrator'"
      ]
     },
     "execution_count": 15,
     "metadata": {},
     "output_type": "execute_result"
    }
   ],
   "source": [
    "pwd"
   ]
  },
  {
   "cell_type": "code",
   "execution_count": 19,
   "id": "7097dd0b-ea8a-4df3-8481-b512c150d9ad",
   "metadata": {},
   "outputs": [
    {
     "name": "stdout",
     "output_type": "stream",
     "text": [
      "通常来说，视频理解的响应时间较长，需要等待数十秒......\n",
      "CompletionMessage(content='好的,让我来为你描述一下这个视频。\\n\\n在这个视频中,有一只可爱的小猫咪坐在床上。它戴着一顶帽子,看起来非常滑稽。小猫咪的眼睛睁得大大的,似乎对周围的一切都感到好奇。\\n\\n床上的被褥柔软舒适,让人看了就想躺上去休息一会儿。小猫咪的毛发柔软细腻,让人忍不住想要摸一摸。\\n\\n随着视频的播放,小猫咪开始动了起来。它在床上爬来爬去,还时不时地摇晃着尾巴。它的动作非常灵活,看起来非常可爱。\\n\\n突然间,小猫咪停了下来,把头转向了镜头。它的眼睛闪闪发光,似乎在向观众打招呼。然后,它又继续在床上玩耍,好像完全忘记了摄像头的存在。\\n\\n总的来说,这个视频展示了一只可爱的小猫咪在床上玩耍的场景。小猫咪的动作和表情都非常逗趣,让人忍俊不禁。如果你喜欢猫咪,那么这个视频一定会让你感到开心和愉悦。', role='assistant', tool_calls=None)\n"
     ]
    }
   ],
   "source": [
    "video_path =\"video_1.mp4\"#设置视频文件的路径\n",
    "with open(video_path,'rb') as video_file:#以“二进制读”模式打开视频文件\n",
    "    video_base = base64.b64encode(video_file.read()).decode('utf-8')\n",
    "\n",
    "print(\"通常来说，视频理解的响应时间较长，需要等待数十秒......\")\n",
    "\n",
    "response = client.chat.completions.create(#直接调补全接口\n",
    "    model=\"glm-4v-plus\",        #设置智谱具体大模型，glm-4v-plus支持视频理解\n",
    "    temperature=0.0,             #设置温度参数，控制生成文本的随机性，0.0表示不随机，输出最可能的文本\n",
    "    top_p=0,             #设置top_p参数，控制生成文本的多样性，0表示不使用此参数 \n",
    "    \n",
    "    messages=[{   #设置消息列表\n",
    "        \"role\":\"user\",    #指定消息的角色为用户\n",
    "        \"content\":[{        #定义消息内容列表\n",
    "        \"type\":\"video_url\",       #设置视频链接\n",
    "        \"video_url\": {\"url\": video_base}    #将编码后的视频gbase64字符串形式作为链接\n",
    "        },{\n",
    "        \"type\":\"text\",           #设置提问/提示词类型为文本\n",
    "        \"text\":\"请仔细描述这个视频的环境，图中的小猫在干啥，以有趣的方式讲给我听\"   #设置提问/提示词\n",
    "        }]\n",
    "    }]\n",
    ")\n",
    "print(response.choices[0].message)#输出回答列表中的第一个选项中的消息"
   ]
  },
  {
   "cell_type": "code",
   "execution_count": null,
   "id": "0b77680a-78ae-4a20-a238-c55b0757f0cb",
   "metadata": {},
   "outputs": [],
   "source": []
  },
  {
   "cell_type": "code",
   "execution_count": null,
   "id": "46284dfb-341c-4c3f-8690-7a52817355fa",
   "metadata": {},
   "outputs": [],
   "source": []
  },
  {
   "cell_type": "code",
   "execution_count": null,
   "id": "1f9acc25-b11d-4a96-9580-ce95afb665a7",
   "metadata": {},
   "outputs": [],
   "source": []
  },
  {
   "cell_type": "code",
   "execution_count": null,
   "id": "f393524f-a838-46b3-b43f-7a7dfa997157",
   "metadata": {},
   "outputs": [],
   "source": []
  },
  {
   "cell_type": "code",
   "execution_count": null,
   "id": "8b780904-5ec6-4811-ab9b-00922009021a",
   "metadata": {},
   "outputs": [],
   "source": []
  },
  {
   "cell_type": "code",
   "execution_count": null,
   "id": "aa008444-165c-4e5f-bb06-3749c5842a79",
   "metadata": {},
   "outputs": [],
   "source": []
  },
  {
   "cell_type": "code",
   "execution_count": null,
   "id": "04889ebb-e0ba-4aad-8178-b1a6eff0fb32",
   "metadata": {},
   "outputs": [],
   "source": []
  }
 ],
 "metadata": {
  "kernelspec": {
   "display_name": "Python 3 (ipykernel)",
   "language": "python",
   "name": "python3"
  },
  "language_info": {
   "codemirror_mode": {
    "name": "ipython",
    "version": 3
   },
   "file_extension": ".py",
   "mimetype": "text/x-python",
   "name": "python",
   "nbconvert_exporter": "python",
   "pygments_lexer": "ipython3",
   "version": "3.9.13"
  }
 },
 "nbformat": 4,
 "nbformat_minor": 5
}
