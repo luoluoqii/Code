{
 "cells": [
  {
   "cell_type": "code",
   "execution_count": 117,
   "id": "81f4bd18-cf39-4e82-85d8-e6425cbf33fd",
   "metadata": {},
   "outputs": [
    {
     "name": "stdout",
     "output_type": "stream",
     "text": [
      "VideoObject(id='675117320700510429216577124204125506', model='cogvideox', video_result=None, task_status='PROCESSING', request_id='9216577124204125505')\n"
     ]
    }
   ],
   "source": [
    "from zhipuai import ZhipuAI\n",
    "client =ZhipuAI(api_key=\"cba33446c6284588b2d533f906d11e55.dRyptCptFpHshX40\")\n",
    "\n",
    "response=client.videos.generations(\n",
    "    model=\"cogvideox\",\n",
    "    prompt=\"cat\"\n",
    ")\n",
    "print(response)"
   ]
  },
  {
   "cell_type": "code",
   "execution_count": 118,
   "id": "6478f548-e050-40a3-b4e6-f9134dc6335e",
   "metadata": {},
   "outputs": [
    {
     "name": "stdout",
     "output_type": "stream",
     "text": [
      "VideoObject(id=None, model='cogvideox', video_result=[VideoResult(url='https://aigc-files.bigmodel.cn/api/cogvideo/34e1398a-a7ba-11ef-bd78-9ee7942420ea_0.mp4', cover_image_url='https://aigc-files.bigmodel.cn/api/cogvideo/34e1398a-a7ba-11ef-bd78-9ee7942420ea_cover_0.jpeg')], task_status='SUCCESS', request_id='9216576333929144402')\n"
     ]
    }
   ],
   "source": [
    "from zhipuai import ZhipuAI\n",
    "client=ZhipuAI(api_key=\"cba33446c6284588b2d533f906d11e55.dRyptCptFpHshX40\")\n",
    "\n",
    "response=client.videos.retrieve_videos_result(\n",
    "    id=\"675117320700510429216576333929144403\"\n",
    ")\n",
    "print(response)"
   ]
  },
  {
   "cell_type": "code",
   "execution_count": null,
   "id": "bcc1813b-14a2-4225-a190-c6dc457228fe",
   "metadata": {},
   "outputs": [],
   "source": []
  },
  {
   "cell_type": "code",
   "execution_count": 4,
   "id": "c34f65eb-20dc-4b91-ba04-e3cd0c80a491",
   "metadata": {},
   "outputs": [
    {
     "name": "stdout",
     "output_type": "stream",
     "text": [
      "VideoObject(id='675117320700510429216576540087806837', model='cogvideox', video_result=None, task_status='PROCESSING', request_id='9216576540087806836')\n"
     ]
    }
   ],
   "source": [
    "from zhipuai import ZhipuAI\n",
    "client =ZhipuAI(api_key=\"cba33446c6284588b2d533f906d11e55.dRyptCptFpHshX40\")\n",
    "\n",
    "response=client.videos.generations(\n",
    "    model=\"cogvideox\",\n",
    "    prompt=\"dancing cat\"\n",
    ")\n",
    "print(response)"
   ]
  },
  {
   "cell_type": "code",
   "execution_count": 5,
   "id": "d22f3c4a-cfe4-445d-9294-d4c5886ccb30",
   "metadata": {},
   "outputs": [
    {
     "name": "stdout",
     "output_type": "stream",
     "text": [
      "VideoObject(id=None, model='cogvideox', video_result=[VideoResult(url='https://aigc-files.bigmodel.cn/api/cogvideo/297b2932-a7a8-11ef-bd78-9ee7942420ea_0.mp4', cover_image_url='https://aigc-files.bigmodel.cn/api/cogvideo/297b2932-a7a8-11ef-bd78-9ee7942420ea_cover_0.jpeg')], task_status='SUCCESS', request_id='9216580285300476401')\n"
     ]
    }
   ],
   "source": [
    "from zhipuai import ZhipuAI\n",
    "client=ZhipuAI(api_key=\"cba33446c6284588b2d533f906d11e55.dRyptCptFpHshX40\")\n",
    "\n",
    "response=client.videos.retrieve_videos_result(\n",
    "    id=\"675117320700510429216580285300476402\"\n",
    ")\n",
    "print(response)"
   ]
  },
  {
   "cell_type": "code",
   "execution_count": null,
   "id": "bd49b448-df4c-41fc-8f5a-f0697bdd6bac",
   "metadata": {},
   "outputs": [],
   "source": []
  },
  {
   "cell_type": "code",
   "execution_count": 167,
   "id": "a5d24b08-1655-46f9-9a5c-d5754d714602",
   "metadata": {},
   "outputs": [
    {
     "name": "stdout",
     "output_type": "stream",
     "text": [
      "VideoObject(id='675117320700510429216576849325908349', model='cogvideox', video_result=None, task_status='PROCESSING', request_id='9216576849325908348')\n"
     ]
    }
   ],
   "source": [
    "from zhipuai import ZhipuAI\n",
    "client =ZhipuAI(api_key=\"cba33446c6284588b2d533f906d11e55.dRyptCptFpHshX40\")\n",
    "\n",
    "response=client.videos.generations(\n",
    "    model=\"cogvideox\",\n",
    "    image_url='https://pic4.zhimg.com/v2-9bd6559f866b65667dda237507c183c7_r.jpg',\n",
    "    prompt=\"头发飘动\"\n",
    ")\n",
    "print(response)"
   ]
  },
  {
   "cell_type": "code",
   "execution_count": 174,
   "id": "3a0a717f-4e89-4989-a0f1-850689421b4b",
   "metadata": {},
   "outputs": [
    {
     "name": "stdout",
     "output_type": "stream",
     "text": [
      "VideoObject(id=None, model='cogvideox', video_result=[VideoResult(url='https://aigc-files.bigmodel.cn/api/cogvideo/5d634c5a-a7be-11ef-bea3-fa5f52131d8b_0.mp4', cover_image_url='https://aigc-files.bigmodel.cn/api/cogvideo/5d634c5a-a7be-11ef-bea3-fa5f52131d8b_cover_0.jpeg')], task_status='SUCCESS', request_id='9216576849325908348')\n"
     ]
    }
   ],
   "source": [
    "from zhipuai import ZhipuAI\n",
    "client=ZhipuAI(api_key=\"cba33446c6284588b2d533f906d11e55.dRyptCptFpHshX40\")\n",
    "\n",
    "response=client.videos.retrieve_videos_result(\n",
    "    id=\"675117320700510429216576849325908349\"\n",
    ")\n",
    "print(response)"
   ]
  },
  {
   "cell_type": "code",
   "execution_count": null,
   "id": "8056b168-1bda-4694-a178-410ee4f89e6b",
   "metadata": {},
   "outputs": [],
   "source": []
  },
  {
   "cell_type": "code",
   "execution_count": null,
   "id": "c7a777a7-3257-46c5-a134-af629277cf6b",
   "metadata": {},
   "outputs": [],
   "source": []
  }
 ],
 "metadata": {
  "kernelspec": {
   "display_name": "Python 3 (ipykernel)",
   "language": "python",
   "name": "python3"
  },
  "language_info": {
   "codemirror_mode": {
    "name": "ipython",
    "version": 3
   },
   "file_extension": ".py",
   "mimetype": "text/x-python",
   "name": "python",
   "nbconvert_exporter": "python",
   "pygments_lexer": "ipython3",
   "version": "3.9.13"
  }
 },
 "nbformat": 4,
 "nbformat_minor": 5
}
